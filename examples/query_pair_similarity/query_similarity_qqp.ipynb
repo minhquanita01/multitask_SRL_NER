{
 "cells": [
  {
   "cell_type": "markdown",
   "metadata": {},
   "source": [
    "# EXAMPLE - 7\n",
    "\n",
    "**Tasks :- Query similarity**\n",
    "\n",
    "**Tasks Description**\n",
    "\n",
    "``Query similarity`` :- This is a sentence pair classification task which determines whether the second sentence in a sample can be inferred from the first.\n",
    "\n",
    "**Conversational Utility** :-  In conversational AI context, this task can be seen as determining whether the second sentence is similar to first or not. Additionally, the probability score can also be used as a similarity score between the sentences. \n",
    "\n",
    "**Data** :- In this example, we are using the <a href=\"https://nlp.stanford.edu/projects/snli\">SNLI</a> data which is having sentence pairs and labels.\n",
    "\n",
    "The data can be downloaded using the following ``wget`` command and unzipped using ``unzip`` command."
   ]
  },
  {
   "cell_type": "code",
   "execution_count": null,
   "metadata": {},
   "outputs": [],
   "source": [
    "!wget qim.fs.quoracdn.net/quora_duplicate_questions.tsv -P qqp_data/"
   ]
  },
  {
   "cell_type": "markdown",
   "metadata": {},
   "source": [
    "# Step -1 Data Transformations\n",
    "\n",
    "Defining transform file\n",
    "\n",
    "```\n",
    "sample_transform:\n",
    "  transform_func: qqp_query_similarity_to_tsv\n",
    "  read_file_names:\n",
    "    - quora_duplicate_questions.tsv\n",
    "  read_dir : qqp_data\n",
    "  save_dir: ../../data\n",
    "```"
   ]
  },
  {
   "cell_type": "code",
   "execution_count": null,
   "metadata": {},
   "outputs": [],
   "source": [
    "!python ../../data_transformations.py \\\n",
    "    --transform_file 'transform_file_qqp.yml'"
   ]
  },
  {
   "cell_type": "markdown",
   "metadata": {},
   "source": [
    "# Step -2 Data Preparation\n",
    "\n",
    "Defining task file for query similarity detection with QQP data\n",
    "\n",
    "```\n",
    "querysimilarity:\n",
    "    model_type: BERT\n",
    "    config_name: bert-base-uncased\n",
    "    dropout_prob: 0.2\n",
    "    metrics:\n",
    "    - classification_accuracy\n",
    "    loss_type: CrossEntropyLoss\n",
    "    class_num: 2\n",
    "    task_type: SentencePairClassification\n",
    "    file_names:\n",
    "    - qqp_query_similarity_train.tsv\n",
    "    - qqp_query_similarity_dev.tsv\n",
    "    - qqp_query_similarity_test.tsv\n",
    "```"
   ]
  },
  {
   "cell_type": "code",
   "execution_count": null,
   "metadata": {},
   "outputs": [],
   "source": [
    "!python ../../data_preparation.py \\\n",
    "    --task_file 'tasks_file_qqp.yml' \\\n",
    "    --data_dir '../../data' \\\n",
    "    --max_seq_len 200"
   ]
  },
  {
   "cell_type": "markdown",
   "metadata": {},
   "source": [
    "# Step - 3 Running train\n",
    "\n",
    "Following command will start the training for the tasks. The log file reporting the loss, metrics and the tensorboard logs will be present in a time-stamped directory.\n",
    "\n",
    "For knowing more details about the train process, refer to <a href= \"https://multi-task-nlp.readthedocs.io/en/latest/training.html#running-train\">running training</a> in documentation."
   ]
  },
  {
   "cell_type": "code",
   "execution_count": null,
   "metadata": {},
   "outputs": [],
   "source": [
    "!python ../../train.py \\\n",
    "    --data_dir '../../data/bert-base-uncased_prepared_data' \\\n",
    "    --task_file 'tasks_file_qqp.yml' \\\n",
    "    --out_dir 'qqp_query_similarity_bert_base' \\\n",
    "    --epochs 3 \\\n",
    "    --train_batch_size 32 \\\n",
    "    --eval_batch_size 32 \\\n",
    "    --grad_accumulation_steps 2 \\\n",
    "    --log_per_updates 100 \\\n",
    "    --save_per_updates 3000 \\\n",
    "    --limit_save 6 \\\n",
    "    --max_seq_len 200 \\\n",
    "    --eval_while_train \\\n",
    "    --test_while_train \\\n",
    "    --silent"
   ]
  },
  {
   "cell_type": "markdown",
   "metadata": {},
   "source": [
    "# Step - 4 Infering\n",
    "\n",
    "You can import and use the ``inferPipeline`` to get predictions for the required tasks.\n",
    "The trained model and maximum sequence length to be used needs to be specified.\n",
    "\n",
    "For knowing more details about infering, refer to <a href=\"https://multi-task-nlp.readthedocs.io/en/latest/infering.html\">infer pipeline</a> in documentation."
   ]
  },
  {
   "cell_type": "code",
   "execution_count": null,
   "metadata": {},
   "outputs": [],
   "source": [
    "import sys\n",
    "sys.path.insert(1, '../../')\n",
    "from infer_pipeline import inferPipeline"
   ]
  },
  {
   "cell_type": "code",
   "execution_count": null,
   "metadata": {},
   "outputs": [],
   "source": []
  }
 ],
 "metadata": {
  "kernelspec": {
   "display_name": "Python 3",
   "language": "python",
   "name": "python3"
  },
  "language_info": {
   "codemirror_mode": {
    "name": "ipython",
    "version": 3
   },
   "file_extension": ".py",
   "mimetype": "text/x-python",
   "name": "python",
   "nbconvert_exporter": "python",
   "pygments_lexer": "ipython3",
   "version": "3.7.3"
  }
 },
 "nbformat": 4,
 "nbformat_minor": 4
}
