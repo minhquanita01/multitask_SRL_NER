{
 "cells": [
  {
   "cell_type": "markdown",
   "metadata": {},
   "source": [
    "# Example - 4\n",
    "\n",
    "**Tasks :- Query type detection**\n",
    "\n",
    "**Tasks Description**\n",
    "\n",
    "``querytype`` :- This is a single sentence classification task to determine what type (category) of answer is expected for the given query. The queries are divided into 5 major classes according to the answer expected for them.\n",
    "\n",
    "**Conversational Utility** :-  While returning a response for a query, knowing what kind of answer is expected for the query can help in both curating and cross-verfying an answer according to the type.\n",
    "\n",
    "**Data** :- In this example, we are using the <a href=\"https://microsoft.github.io/msmarco/\">MSMARCO QnA</a> data. Queries are divided into 5 query types - NUMERIC, LOCATION, ENTITY, DESCRIPTION, PERSON.\n",
    "\n",
    "The data can be downloaded using the following ``wget`` command and unzipped using ``unzip`` command."
   ]
  },
  {
   "cell_type": "code",
   "execution_count": null,
   "metadata": {},
   "outputs": [],
   "source": [
    "!wget https://msmarco.blob.core.windows.net/msmarco/train_v2.1.json.gz -P msmarco_qna_data\n",
    "!wget https://msmarco.blob.core.windows.net/msmarco/dev_v2.1.json.gz -P msmarco_qna_data\n",
    "!wget https://msmarco.blob.core.windows.net/msmarco/eval_v2.1_public.json.gz -P msmarco_qna_data"
   ]
  },
  {
   "cell_type": "code",
   "execution_count": null,
   "metadata": {},
   "outputs": [],
   "source": [
    "!gunzip msmarco_qna_data/train_v2.1.json.gz\n",
    "!gunzip msmarco_qna_data/dev_v2.1.json.gz\n",
    "!gunzip msmarco_qna_data/eval_v2.1_public.json.gz"
   ]
  },
  {
   "cell_type": "markdown",
   "metadata": {},
   "source": [
    "# Step - 1: Transforming data\n",
    "\n",
    "The data is present in *JSON* format containing various data fields for each sample. We only consider the ``query`` and ``query_type`` in this example. The data is fairly large, hence we set ``data_frac`` to 0.2 by default. You can change this in case, you want to consider more data.\n",
    "\n",
    "We already provide a sample transformation function ``msmarco_query_type_to_tsv`` to convert this data to required tsv format. \n",
    "\n",
    "Running data transformations will save the required train, dev and test tsv data files under ``data`` directory in root of library. For more details on the data transformation process, refer to <a href=\"https://multi-task-nlp.readthedocs.io/en/latest/data_transformations.html\">data transformations</a> in documentation.\n",
    "\n",
    "The transformation file should have the following details which is already created ``transform_file_querytype.yml``.\n",
    "\n",
    "```\n",
    "transform1:\n",
    "  transform_func: msmarco_query_type_to_tsv\n",
    "  transform_params:\n",
    "    data_frac : 0.2\n",
    "  read_file_names:\n",
    "    - train_v2.1.json\n",
    "    - dev_v2.1.json\n",
    "    - eval_v2.1_public.json\n",
    "\n",
    "  read_dir: msmarco_qna_data\n",
    "  save_dir: ../../data\n",
    " ```\n",
    " Following command can be used to run the data transformation for the tasks."
   ]
  },
  {
   "cell_type": "code",
   "execution_count": null,
   "metadata": {},
   "outputs": [],
   "source": [
    "!python ../../data_transformations.py \\\n",
    "    --transform_file 'transform_file_querytype.yml'"
   ]
  },
  {
   "cell_type": "markdown",
   "metadata": {},
   "source": [
    "# Step -2 Data Preparation\n",
    "\n",
    "For more details on the data preparation process, refer to <a href=\"https://multi-task-nlp.readthedocs.io/en/latest/training.html#running-data-preparation\">data preparation</a> in documentation.\n",
    "\n",
    "Defining tasks file for training single model for entailment task. The file is already created at ``tasks_file_querytype.yml``\n",
    "```\n",
    "querytype:\n",
    "    model_type: BERT\n",
    "    config_name: bert-base-uncased\n",
    "    dropout_prob: 0.2\n",
    "    label_map_or_file:\n",
    "    - DESCRIPTION\n",
    "    - ENTITY\n",
    "    - LOCATION\n",
    "    - NUMERIC\n",
    "    - PERSON\n",
    "    metrics:\n",
    "    - classification_accuracy\n",
    "    loss_type: CrossEntropyLoss\n",
    "    task_type: SingleSenClassification\n",
    "    file_names:\n",
    "    - querytype_train_v2.1.tsv\n",
    "    - querytype_dev_v2.1.tsv\n",
    "    - querytype_eval_v2.1_public.tsv\n",
    "```"
   ]
  },
  {
   "cell_type": "code",
   "execution_count": null,
   "metadata": {},
   "outputs": [],
   "source": [
    "!python ../../data_preparation.py \\\n",
    "    --task_file 'tasks_file_querytype.yml' \\\n",
    "    --data_dir '../../data' \\\n",
    "    --max_seq_len 60"
   ]
  },
  {
   "cell_type": "markdown",
   "metadata": {},
   "source": [
    "# Step - 3 Running train\n",
    "\n",
    "Following command will start the training for the tasks. The log file reporting the loss, metrics and the tensorboard logs will be present in a time-stamped directory.\n",
    "\n",
    "For knowing more details about the train process, refer to <a href= \"https://multi-task-nlp.readthedocs.io/en/latest/training.html#running-train\">running training</a> in documentation."
   ]
  },
  {
   "cell_type": "code",
   "execution_count": null,
   "metadata": {},
   "outputs": [],
   "source": [
    "!python ../../train.py \\\n",
    "    --data_dir '../../data/bert-base-uncased_prepared_data' \\\n",
    "    --task_file 'tasks_file_querytype.yml' \\\n",
    "    --out_dir 'msmarco_querytype_bert_base' \\\n",
    "    --epochs 4 \\\n",
    "    --train_batch_size 64 \\\n",
    "    --eval_batch_size 64 \\\n",
    "    --grad_accumulation_steps 1 \\\n",
    "    --log_per_updates 100 \\\n",
    "    --max_seq_len 60 \\\n",
    "    --eval_while_train \\\n",
    "    --test_while_train \\\n",
    "    --silent"
   ]
  },
  {
   "cell_type": "markdown",
   "metadata": {},
   "source": [
    "# Step - 4 Infering\n",
    "\n",
    "You can import and use the ``inferPipeline`` to get predictions for the required tasks.\n",
    "The trained model and maximum sequence length to be used needs to be specified.\n",
    "\n",
    "For knowing more details about infering, refer to <a href=\"https://multi-task-nlp.readthedocs.io/en/latest/infering.html\">infer pipeline</a> in documentation."
   ]
  },
  {
   "cell_type": "code",
   "execution_count": 1,
   "metadata": {},
   "outputs": [
    {
     "name": "stderr",
     "output_type": "stream",
     "text": [
      "Using TensorFlow backend.\n"
     ]
    }
   ],
   "source": [
    "import sys\n",
    "sys.path.insert(1, '../../')\n",
    "from infer_pipeline import inferPipeline"
   ]
  },
  {
   "cell_type": "code",
   "execution_count": null,
   "metadata": {},
   "outputs": [],
   "source": []
  },
  {
   "cell_type": "code",
   "execution_count": null,
   "metadata": {},
   "outputs": [],
   "source": []
  },
  {
   "cell_type": "code",
   "execution_count": null,
   "metadata": {},
   "outputs": [],
   "source": []
  }
 ],
 "metadata": {
  "kernelspec": {
   "display_name": "Python 3",
   "language": "python",
   "name": "python3"
  },
  "language_info": {
   "codemirror_mode": {
    "name": "ipython",
    "version": 3
   },
   "file_extension": ".py",
   "mimetype": "text/x-python",
   "name": "python",
   "nbconvert_exporter": "python",
   "pygments_lexer": "ipython3",
   "version": "3.7.3"
  }
 },
 "nbformat": 4,
 "nbformat_minor": 4
}
